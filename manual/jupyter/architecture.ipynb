{
 "cells": [
  {
   "cell_type": "markdown",
   "metadata": {},
   "source": [
    "<center><h1>Applications of Machine Learning with Artificial Neural Networks and Supervised Regression</h1></center>\n",
    "<br>\n",
    "<center><i>Lucas Barbosa</i></center><hr>\n",
    "<h3>The Architecture</h3>\n",
    "\n",
    "<p>The structure of the ANN is going to be comprised of three layers:</p><br>\n",
    "\n",
    "<center><img src=\"img/simple_net.png\" alt=\"Neural Net Structure\"/></center>\n",
    "\n",
    "<p>The input and output layers will have 2 neurons and 1 neuron respectively, this is dependant on the dimensionally of the data. For the sake of simplicity the hidden layer will consists of only three hidden units (hidden neurons). When defining the structure of the ANN it all comes down to the quantity of:</p>\n",
    "\n",
    "<table>\n",
    "    <thead>\n",
    "        <tr>\n",
    "            <th><center>Hyper-parameters</center></th>\n",
    "            <th><center>Parameters</center></th>\n",
    "        </tr>\n",
    "    </thead>\n",
    "    <tbody>\n",
    "        <tr>\n",
    "            <td>Are fine-tuned while ANN is being trained to minimise the error of the predictions.</td>\n",
    "            <td>Stay static the entire time unless changed or coded manually.</td>\n",
    "        </tr>\n",
    "    </tbody>\n",
    "</table>\n",
    "\n",
    "<p>Examples of hyper-parameters are the amount of neurons in each layer and even the amount of layers themselves. These should be determined before approaching implementation in code. Parameters however such as weights and regularisation values are changed throughout the life span of the ANN.</p>"
   ]
  },
  {
   "cell_type": "markdown",
   "metadata": {},
   "source": [
    "<h3>Forward Propagation</h3>\n",
    "<p>Forward propagation is the process of advancing our input data (hours studied and slept) through the actual network. It’ll be useful to both Mathematically and Programatically visualise the ANN process until we converge to our final output result.</p>\n",
    "\n",
    "<p>The only libraries being used are numpy for matrix math and scipy for Mathematical Optimisation. Before anything goes anywhere the data required for the network to be trained comes in twofold. Training data and testing data.</p>"
   ]
  },
  {
   "cell_type": "code",
   "execution_count": 1,
   "metadata": {
    "collapsed": true
   },
   "outputs": [],
   "source": [
    "import numpy as np\n",
    "from scipy import optimize\n",
    "\n",
    "# training data\n",
    "x_train = np.array(([3,5],[5,1],[10,2],[6,1.5]), dtype=float)\n",
    "y_train = np.array(([75],[82],[93],[70]), dtype=float)\n",
    "\n",
    "# testing data\n",
    "x_test = np.array(([4, 5.5],[4.5, 1],[9,2.5],[6,2]), dtype=float)\n",
    "y_test = np.array(([70],[89],[85],[75]), dtype=float)"
   ]
  },
  {
   "cell_type": "markdown",
   "metadata": {},
   "source": [
    "<p>The importance in separating testing data from training data is to always make sure the model is according to the real world by comparing to testing values. The test data doesn’t go through the same pipelines as the training data does. The input data values are passed through the input neurons as matrices for <strong>computational speed-ups</strong>. </p><br>\n",
    "<center>\n",
    "$ X = \\begin{bmatrix} X_{1,1} & X_{1,2}\\\\ X_{2,1} & X_{2,2} \\\\ X_{3,1} & X_{3,2} \\end{bmatrix} $\n",
    "</center>\n",
    "<p>Before processing anymore data there is one more thing to account for. The input is in different units to the output. The network won’t be smart enough to map a generalisation between different units of data, one being hours and the other a score out of 100. We can take advantage of the fact that all the data is positive and divided the individual values by their respective maximum to get a number between 0 and 1.</p>"
   ]
  },
  {
   "cell_type": "code",
   "execution_count": 2,
   "metadata": {
    "collapsed": false
   },
   "outputs": [],
   "source": [
    "def scale_data(hours, test_score):\n",
    "    MAX_SCORE = 100\n",
    "    hours = hours / np.amax(hours, axis=0)\n",
    "    test_score /= MAX_SCORE\n",
    "    return hours, test_score\n",
    "\n",
    "# normalize data\n",
    "x_train, y_train = scale_data(x_train, y_train)\n",
    "x_test, y_test   = scale_data(x_test, y_test)"
   ]
  },
  {
   "cell_type": "code",
   "execution_count": 3,
   "metadata": {
    "collapsed": false
   },
   "outputs": [
    {
     "data": {
      "text/plain": [
       "array([[ 0.3,  1. ],\n",
       "       [ 0.5,  0.2],\n",
       "       [ 1. ,  0.4],\n",
       "       [ 0.6,  0.3]])"
      ]
     },
     "execution_count": 3,
     "metadata": {},
     "output_type": "execute_result"
    }
   ],
   "source": [
    "x_train"
   ]
  },
  {
   "cell_type": "code",
   "execution_count": 4,
   "metadata": {
    "collapsed": false
   },
   "outputs": [
    {
     "data": {
      "text/plain": [
       "array([[ 0.75],\n",
       "       [ 0.82],\n",
       "       [ 0.93],\n",
       "       [ 0.7 ]])"
      ]
     },
     "execution_count": 4,
     "metadata": {},
     "output_type": "execute_result"
    }
   ],
   "source": [
    "y_train"
   ]
  },
  {
   "cell_type": "markdown",
   "metadata": {},
   "source": [
    "<p>The next phase now for the input is for it to multiplied using the <strong>dot product</strong> to the first set of weights on the first layer of synapses. With a total of 6 weights where three are connected to each input neuron, a 2x3 matrix is formed:</p><br>\n",
    "\n",
    "<center>$ W^{(1)} = \\begin{bmatrix} W^{(1)}_{1,1} & W^{(1)}_{1,2} & W^{(1)}_{1,3} \\\\ W^{(1)}_{2,1} & W^{(1)}_{2,2} & W^{(1)}_{2,3} \\end{bmatrix} $</center><br>\n",
    "\n",
    "The activity of the second layer is produced though the matrix multiplication of the input and the first set of weights. This activity results in a 3x3 matrix z2\n",
    "\n",
    "<center>$ z^{(2)} = W^{(1)} X $</center>\n",
    "<br>\n",
    "<center>$ z^{(2)} = \\begin{bmatrix}\n",
    "X_{1,1} W^{(1)}_{1,1} + X_{1,2} W^{(1)}_{2,1} & X_{1,1} W^{(1)}_{1,2} + X_{1,2} W^{(1)}_{2,2} & X_{1,1} W^{(1)}_{1,3} + X_{1,2} W^{(1)}_{1,3} \\\\ \n",
    "X_{2,1} W^{(1)}_{1,1} + X_{2,2} W^{(1)}_{2,1} & X_{2,1} W^{(1)}_{1,2} + X_{2,2} W^{(1)}_{2,2} & X_{2,1} W^{(1)}_{1,3} + X_{2,2} W^{(1)}_{2,3} \\\\ \n",
    "X_{3,1} W^{(1)}_{1,1} + X_{2,3} W^{(1)}_{2,1} & X_{3,1} W^{(1)}_{1,2} + X_{3,2} W^{(1)}_{2,2} & X_{3,1} W^{(1)}_{1,3} + X_{2,3} W^{(1)}_{2,3}\n",
    "\\end{bmatrix} $</center>\n",
    "\n",
    "<p>The activity of the second layer z2 now needs to be activated through an <strong>activation function</strong>. The non-linear activation function being used will be the sigmoid function.</p> <br>\n",
    "<center>$ \\varphi(x) = \\frac{1}{1 + e^{-x}} $</center>\n",
    "\n",
    "<p>This function needs to be applied to <strong>every</strong> entry in the activity matrix z2 to produce the activation of the second layer a2.</p><br>\n",
    "\n",
    "<center>$ \\varphi(z^{(2)}) = \\begin{bmatrix}\n",
    "\\varphi(X_{1,1} W^{(1)}_{1,1} + X_{1,2} W^{(1)}_{2,1}) & \\varphi(X_{1,1} W^{(1)}_{1,2} + X_{1,2} W^{(1)}_{2,2}) & \\varphi(X_{1,1} W^{(1)}_{1,3} + X_{1,2} W^{(1)}_{1,3}) \\\\\n",
    "\\varphi(X_{2,1} W^{(1)}_{1,1} + X_{2,2} W^{(1)}_{2,1}) & \\varphi(X_{2,1} W^{(1)}_{1,2} + X_{2,2} W^{(1)}_{2,2}) & \\varphi(X_{2,1} W^{(1)}_{1,3} + X_{2,2} W^{(1)}_{2,3}) \\\\\n",
    "\\varphi(X_{3,1} W^{(1)}_{1,1} + X_{2,3} W^{(1)}_{2,1}) & \\varphi(X_{3,1} W^{(1)}_{1,2} + X_{3,2} W^{(1)}_{2,2}) & \\varphi(X_{3,1} W^{(1)}_{1,3} + X_{2,3} W^{(1)}_{2,3})\n",
    "\\end{bmatrix} $</center><br>\n",
    "\n",
    "<center>$ a^{(2)} = \\varphi(z^{(2)}) $</center>\n",
    "\n",
    "<p>Once the activation has been computed it needs to multiplied by the <strong>second</strong> set of weights on the next synapses. This time there are 3 weights from 3 hidden neurons going into one output neuron, formulating a 3x1 matrix of new weights:</p><br>\n",
    "\n",
    "<center>$ W^{(2)} = \\begin{bmatrix}\n",
    "W^{(2)}_{1,1} \\\\ \n",
    "W^{(2)}_{2,1} \\\\\n",
    "W^{(2)}_{3,1}\n",
    "\\end{bmatrix} $</center>\n",
    "\n",
    "<p>The matrix multiplication of the second layer activation and the second set of weights results in a 3x1 matrix yielding the activity for the third and final layer z3.</p><br>\n",
    "\n",
    "<center>$ z^{(3)} = a^{(2)}W^{(2)} $</center> <br>\n",
    "\n",
    "<center>$ z^{(3)} = \\begin{bmatrix}\n",
    "W^{(2)}_{1,1} a^{(2)}_{1,1} + W^{(2)}_{1,1} a^{(2)}_{1,2} + W^{(2)}_{1,1} a^{(2)}_{1,3} \\\\ \n",
    "W^{(2)}_{2,1} a^{(2)}_{2,1} + W^{(2)}_{2,1} a^{(2)}_{2,2} + W^{(2)}_{2,1} a^{(2)}_{2,3} \\\\ \n",
    "W^{(2)}_{3,1} a^{(2)}_{3,1} + W^{(2)}_{2,1} a^{(2)}_{3,2} + W^{(2)}_{3,1} a^{(2)}_{3,3} \n",
    "\\end{bmatrix} $</center>\n",
    "\n",
    "<p>The final computation is the activation function of the third layer activity z3. This result will also yield our final output prediciton from the output layer.</p><br>\n",
    "\n",
    "<center>$ \\varphi(z^{(3)}) = \\begin{bmatrix}\n",
    "\\varphi(W^{(2)}_{1,1} a^{(2)}_{1,1} + W^{(2)}_{1,1} a^{(2)}_{1,2} + W^{(2)}_{1,1} a^{(2)}_{1,3}) \\\\\n",
    "\\varphi(W^{(2)}_{2,1} a^{(2)}_{2,1} + W^{(2)}_{2,1} a^{(2)}_{2,2} + W^{(2)}_{2,1} a^{(2)}_{2,3}) \\\\\n",
    "\\varphi(W^{(2)}_{3,1} a^{(2)}_{3,1} + W^{(2)}_{2,1} a^{(2)}_{3,2} + W^{(2)}_{3,1} a^{(2)}_{3,3})\n",
    "\\end{bmatrix}  $</center> <br>\n",
    "\n",
    "<center>$ \\hat{y} = \\varphi(z^{(3)}) $</center>\n",
    "\n",
    "<p>The forward propagation algorithm has been shown Mathematically, now its time to put all this into code. Before a class is built, weights need to be <strong>randomly</strong> initialised.</p>"
   ]
  },
  {
   "cell_type": "code",
   "execution_count": 5,
   "metadata": {
    "collapsed": false
   },
   "outputs": [],
   "source": [
    "class Neural_Network(object):\n",
    "    \n",
    "    def __init__(self):\n",
    "        # define hyperparameters\n",
    "        self.input_layer_size = 2\n",
    "        self.hidden_layer_size = 3\n",
    "        self.output_layer_size = 1\n",
    "        \n",
    "        #define parameters\n",
    "        self.W1 = np.random.randn(self.input_layer_size, self.hidden_layer_size)\n",
    "        self.W2 = np.random.randn(self.hidden_layer_size, self.output_layer_size)\n",
    "        \n",
    "    # forward propagation\n",
    "    def forward(self, X):\n",
    "        self.z2 = np.dot(X, self.W1)\n",
    "        self.a2 = self.sigmoid(self.z2)\n",
    "        self.z3 = np.dot(self.a2, self.W2)\n",
    "        prediction = self.sigmoid(self.z3)\n",
    "        return prediction\n",
    "    \n",
    "    # activation functions\n",
    "    def sigmoid(self, z):\n",
    "        return 1 / (1 + np.exp(-z))"
   ]
  },
  {
   "cell_type": "code",
   "execution_count": 6,
   "metadata": {
    "collapsed": true
   },
   "outputs": [],
   "source": [
    "NN = Neural_Network()"
   ]
  },
  {
   "cell_type": "code",
   "execution_count": 7,
   "metadata": {
    "collapsed": false
   },
   "outputs": [
    {
     "data": {
      "text/plain": [
       "array([[ 0.36756757],\n",
       "       [ 0.35411977],\n",
       "       [ 0.3499925 ],\n",
       "       [ 0.35427414]])"
      ]
     },
     "execution_count": 7,
     "metadata": {},
     "output_type": "execute_result"
    }
   ],
   "source": [
    "NN.forward(x_train)"
   ]
  },
  {
   "cell_type": "code",
   "execution_count": 8,
   "metadata": {
    "collapsed": false
   },
   "outputs": [
    {
     "data": {
      "text/plain": [
       "array([[ 0.75],\n",
       "       [ 0.82],\n",
       "       [ 0.93],\n",
       "       [ 0.7 ]])"
      ]
     },
     "execution_count": 8,
     "metadata": {},
     "output_type": "execute_result"
    }
   ],
   "source": [
    "y_train"
   ]
  },
  {
   "cell_type": "markdown",
   "metadata": {},
   "source": [
    "<p>Now that the forward propagation is done its quite clear that the predicted outputs are far off the supervised values, this is because the network has not yet been <strong>trained</strong>.</p>"
   ]
  }
 ],
 "metadata": {
  "anaconda-cloud": {},
  "kernelspec": {
   "display_name": "Python [default]",
   "language": "python",
   "name": "python3"
  },
  "language_info": {
   "codemirror_mode": {
    "name": "ipython",
    "version": 3
   },
   "file_extension": ".py",
   "mimetype": "text/x-python",
   "name": "python",
   "nbconvert_exporter": "python",
   "pygments_lexer": "ipython3",
   "version": "3.5.2"
  }
 },
 "nbformat": 4,
 "nbformat_minor": 1
}
