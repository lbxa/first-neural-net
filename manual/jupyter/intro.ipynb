{
 "cells": [
  {
   "cell_type": "markdown",
   "metadata": {},
   "source": [
    "<center><h1>Applications of Machine Learning with Artificial Neural Networks and Supervised Regression</h1></center>\n",
    "<br>\n",
    "<center><i>Lucas Barbosa</i></center><hr>\n",
    "<h3>Introduction</h3>\n",
    "<p>Artificial Neural Network's (ANN's) have been around for a very long time in the field of Machine Learning. ML is dedicated to training very simple to highly sophisticated algorithms how to recognize patterns in data. Due to ML being such a broad area of expertise, there are many ML models which are all designed as learners to <strong>generalise</strong> from experience.</p>\n",
    "\n",
    "- Image Classification\n",
    "- Natural Language Processing\n",
    "- Computer\n",
    "\n",
    "<p>The different ML models range form Support Vector Machines, Artificial Neural Networks, Deep Belief Networks etc. The trick to any ML practice is that each problem requires a tailored approach in order to be solved using any one of the above models listed. The idea of training an algorithm revolves around almost all ML practices. There are 3 different classifications of learning strategies:</p>\n",
    "\n",
    "<table>\n",
    "    <thead>\n",
    "        <tr>\n",
    "            <th><center>Supervised Learning</center></th>\n",
    "            <th><center>Unsupervised Learning</center></th>\n",
    "            <th><center>Reinforcement Learning</center></th>\n",
    "        </tr>\n",
    "    </thead>\n",
    "    <tbody>\n",
    "        <tr>\n",
    "            <td>\n",
    "                <p>The algorithm is given both a set of inputs and outputs and the role of the algorithm is to map a general rule between the inputs and outputs.</p>\n",
    "            </td>\n",
    "            <td>\n",
    "                <p>No labels are given to the algorithm’s output and it’s left on its own to find the structure of the input. This practice revolves a lot around <strong>feature learning</strong>.</p>\n",
    "            </td>\n",
    "            <td>\n",
    "                <p>The algorithm is constantly interacting with the surrounding dynamic environment performing a critical task, such as driving a car. The algorithm is provided <strong>feedback</strong>with rewards and punishments as it navigates through space.</p>\n",
    "            </td>\n",
    "        </tr>\n",
    "    </tbody>\n",
    "</table>"
   ]
  },
  {
   "cell_type": "markdown",
   "metadata": {},
   "source": [
    "<h3>Defining the Problem</h3>\n",
    "<p>The task at hand is predicting student’s score on a test based on the amount of hours slept and studied the night before. The main goal is to build an operational algorithm which can <strong>predict</strong> you’re score on a test based on the above statistics.</p>\n",
    "\n",
    "<table>\n",
    "    <thead>\n",
    "        <tr>\n",
    "            <td><center><strong>Hour Slept & Studied</strong>&nbsp;(hrs)</center></td>\n",
    "            <td><center><strong>Test Score</strong>&nbsp;(max out of 100)</center></td>\n",
    "        </tr>\n",
    "    </thead>\n",
    "    <tbody>\n",
    "        <tr>\n",
    "            <td><center>3, 5</center></td><td><center>75</center></td>\n",
    "        </tr>\n",
    "        <tr>\n",
    "            <td><center>5, 1</center></td><td><center>82</center></td>\n",
    "        </tr>\n",
    "        <tr>\n",
    "            <td><center>10, 2</center></td><td><center>93</center></td>\n",
    "        </tr>\n",
    "    </tbody>\n",
    "</table>\n",
    "\n",
    "<p>The ML model being used to solved this particular task will be a basic <strong>Feed-Forward Artificial Neural Network</strong>. This problem set will also be considered a <strong>supervised regression</strong> problem. Supervised due to the inputs and outputs provided for training and regression because of the <i>continuous</i> nature of the data.</p>"
   ]
  },
  {
   "cell_type": "markdown",
   "metadata": {},
   "source": [
    "<h3>Theory</h3>\n",
    "<p>ANN’s date back to the early beginnings of AI and ML in 1960 thanks to the very generous predictions from Mathematician Alan Turing. ANN’s are inspired off our most interesting biological entity, the human brain. Our brain is comprised of over <strong>100 billion</strong> tiny units called neurons. Each neuron is connected to thousands of other neurons and communicate via <strong>electrochemical signals</strong>. Signals come into neurons via junctions called synapses, these are located at the end of the branches called <strong>dendrites</strong>.</p>\n",
    "\n",
    "<center><img src=\"img/neuron.png\" alt=\"Neuron\"/></center>\n",
    "\n",
    "<p>Neurons continuously receive signals from the synapses and do their magic which involves <strong>summing</strong> up all of the inputs being received from the other neurons and if the result is greater then a <strong>threshold value</strong>, the neuron shoots. By shooting this means the neurons generates a voltage and outputs a signal along something called an <strong>axon</strong>.</p>\n",
    "\n",
    "<p>Above is a great example of a neuron however ANN’s aren’t comprised of biological neurons, they’re made up of artificial neurons which look more like:</p>\n",
    "\n",
    "<center><img src=\"img/a_neuron.png\" alt=\"Artificial Neuron\"/></center>\n",
    "\n",
    "<p>Each input into a neuron is associated with its own synaptic weight which is a parameter. Parameters are fine-tuned during the training process. Weights can be both positive and negative values, therefore providing excitatory or inhibitory influences to each input.</p>\n",
    "\n",
    "<p>As each input enters through the synapses they are multiplied by the weight then summed together by the neuron. This process the activity for that layer of neurons.</p>\n",
    "\n",
    "<p>The inputs x being:</p>\n",
    "<br>\n",
    "<center>$ x_{1} + x_{2} + x_{3} + \\cdots + x_{n} $</center>\n",
    "\n",
    "<p>The synaptic weights w being:</p>\n",
    "<br>\n",
    "<center>$ w_{1} + w_{2} + w_{3} + \\cdots + w_{n}  $</center>\n",
    "\n",
    "<p>The neuron being responsible for the following operation:</p>\n",
    "<br>\n",
    "<center>$ a = x_{1}w_{1} + x_{2}w_{2} + x_{3}w_{3} + \\cdots + x_{n}w_{n} $</center>\n",
    "<br>\n",
    "<center>$ a = \\sum_{i=0}^{n} x_{i}w_{i} $</center>\n",
    "\n",
    "<p>An <strong>activation function</strong> is then applied to the activity of the neuron and the yielded result is then passed onto the next synapse. This process occurs for however many layers there are in the network (note that an ANN with several hidden layers is also know as a Deep Belief Network). Once a final output result is given it is passed into a <strong>cost function</strong> which will determine how much error there was in the prediction.</p>\n",
    "\n",
    "<center><img src=\"img/ann_model.png\" alt=\"Artificial Neuron\"/></center>\n",
    "\n",
    "<p>The cost function will determine the model’s accuracy and determine whether its shiny gold or no good at all. The cost function being used will be:</p>\n",
    "<br>\n",
    "<center>$ \\eta = \\sum \\frac{1}{2} (y - \\hat{y})^{2} $</center> \n",
    "\n",
    "<p>Since the total error is computed over the entire data set this is called Batch Gradient Descent, since the gradient of the above function will be used to train the ANN later.</p>"
   ]
  },
  {
   "cell_type": "markdown",
   "metadata": {},
   "source": [
    "<center><i>Next up...Implementaton</i></center>"
   ]
  }
 ],
 "metadata": {
  "anaconda-cloud": {},
  "kernelspec": {
   "display_name": "Python [default]",
   "language": "python",
   "name": "python3"
  },
  "language_info": {
   "codemirror_mode": {
    "name": "ipython",
    "version": 3
   },
   "file_extension": ".py",
   "mimetype": "text/x-python",
   "name": "python",
   "nbconvert_exporter": "python",
   "pygments_lexer": "ipython3",
   "version": "3.5.2"
  }
 },
 "nbformat": 4,
 "nbformat_minor": 1
}
